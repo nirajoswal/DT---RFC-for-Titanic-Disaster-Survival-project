{
 "cells": [
  {
   "cell_type": "markdown",
   "metadata": {
    "_uuid": "1ec2935130ad27be9bd5255001c8e98acf89685e"
   },
   "source": [
    "# Titanic Survival Predicton"
   ]
  },
  {
   "cell_type": "markdown",
   "metadata": {
    "_uuid": "fe6f96b0239c646fe5e861fc6d8f74b5e106bacc"
   },
   "source": [
    "The objective is to predict if passanger has survived or not."
   ]
  },
  {
   "cell_type": "code",
   "execution_count": 48,
   "metadata": {
    "_cell_guid": "a3c81084-3a1d-436c-8fa2-6dac96d9bace",
    "_uuid": "89a897b16f0f4dcfd0336e5c0ee9c60fa2765baf"
   },
   "outputs": [],
   "source": [
    "import numpy as np\n",
    "import pandas as pd \n",
    "import re\n",
    "import matplotlib.pyplot as plt\n",
    "import seaborn as sns\n",
    "from scipy.stats import chi2_contingency\n",
    "\n",
    "from sklearn.metrics import confusion_matrix,classification_report\n",
    "from sklearn.model_selection import train_test_split\n",
    "from sklearn.model_selection import cross_val_score\n",
    "from sklearn.model_selection import GridSearchCV\n",
    "from sklearn.ensemble import RandomForestClassifier\n",
    "from sklearn.metrics import accuracy_score\n",
    "train = pd.read_csv(r\"C:\\Users\\niraj\\OneDrive\\Desktop\\DA projects\\DT & RFC for Titanic Disaster Survival project\\train.csv\")\n",
    "test = pd.read_csv(r\"C:\\Users\\niraj\\OneDrive\\Desktop\\DA projects\\DT & RFC for Titanic Disaster Survival project\\test.csv\")\n",
    "\n",
    "%matplotlib inline"
   ]
  },
  {
   "cell_type": "code",
   "execution_count": 2,
   "metadata": {
    "_uuid": "86e581aefb35f47e23abfd8e66a228c9e1fc3aea"
   },
   "outputs": [
    {
     "name": "stdout",
     "output_type": "stream",
     "text": [
      "Train dataset has 891 samples and 12 attributes\n",
      "Test dataset has 418 samples and 11 attributes\n"
     ]
    }
   ],
   "source": [
    "print(\"Train dataset has {} samples and {} attributes\".format(*train.shape))\n",
    "print(\"Test dataset has {} samples and {} attributes\".format(*test.shape))"
   ]
  },
  {
   "cell_type": "code",
   "execution_count": 3,
   "metadata": {
    "_uuid": "9bb6cad6d68c78daeceb2c1ac7ddb7279aa5e87f"
   },
   "outputs": [
    {
     "data": {
      "text/html": [
       "<div>\n",
       "<style scoped>\n",
       "    .dataframe tbody tr th:only-of-type {\n",
       "        vertical-align: middle;\n",
       "    }\n",
       "\n",
       "    .dataframe tbody tr th {\n",
       "        vertical-align: top;\n",
       "    }\n",
       "\n",
       "    .dataframe thead th {\n",
       "        text-align: right;\n",
       "    }\n",
       "</style>\n",
       "<table border=\"1\" class=\"dataframe\">\n",
       "  <thead>\n",
       "    <tr style=\"text-align: right;\">\n",
       "      <th></th>\n",
       "      <th>PassengerId</th>\n",
       "      <th>Survived</th>\n",
       "      <th>Pclass</th>\n",
       "      <th>Name</th>\n",
       "      <th>Sex</th>\n",
       "      <th>Age</th>\n",
       "      <th>SibSp</th>\n",
       "      <th>Parch</th>\n",
       "      <th>Ticket</th>\n",
       "      <th>Fare</th>\n",
       "      <th>Cabin</th>\n",
       "      <th>Embarked</th>\n",
       "    </tr>\n",
       "  </thead>\n",
       "  <tbody>\n",
       "    <tr>\n",
       "      <th>0</th>\n",
       "      <td>1</td>\n",
       "      <td>0</td>\n",
       "      <td>3</td>\n",
       "      <td>Braund, Mr. Owen Harris</td>\n",
       "      <td>male</td>\n",
       "      <td>22.0</td>\n",
       "      <td>1</td>\n",
       "      <td>0</td>\n",
       "      <td>A/5 21171</td>\n",
       "      <td>7.2500</td>\n",
       "      <td>NaN</td>\n",
       "      <td>S</td>\n",
       "    </tr>\n",
       "    <tr>\n",
       "      <th>1</th>\n",
       "      <td>2</td>\n",
       "      <td>1</td>\n",
       "      <td>1</td>\n",
       "      <td>Cumings, Mrs. John Bradley (Florence Briggs Th...</td>\n",
       "      <td>female</td>\n",
       "      <td>38.0</td>\n",
       "      <td>1</td>\n",
       "      <td>0</td>\n",
       "      <td>PC 17599</td>\n",
       "      <td>71.2833</td>\n",
       "      <td>C85</td>\n",
       "      <td>C</td>\n",
       "    </tr>\n",
       "    <tr>\n",
       "      <th>2</th>\n",
       "      <td>3</td>\n",
       "      <td>1</td>\n",
       "      <td>3</td>\n",
       "      <td>Heikkinen, Miss. Laina</td>\n",
       "      <td>female</td>\n",
       "      <td>26.0</td>\n",
       "      <td>0</td>\n",
       "      <td>0</td>\n",
       "      <td>STON/O2. 3101282</td>\n",
       "      <td>7.9250</td>\n",
       "      <td>NaN</td>\n",
       "      <td>S</td>\n",
       "    </tr>\n",
       "    <tr>\n",
       "      <th>3</th>\n",
       "      <td>4</td>\n",
       "      <td>1</td>\n",
       "      <td>1</td>\n",
       "      <td>Futrelle, Mrs. Jacques Heath (Lily May Peel)</td>\n",
       "      <td>female</td>\n",
       "      <td>35.0</td>\n",
       "      <td>1</td>\n",
       "      <td>0</td>\n",
       "      <td>113803</td>\n",
       "      <td>53.1000</td>\n",
       "      <td>C123</td>\n",
       "      <td>S</td>\n",
       "    </tr>\n",
       "    <tr>\n",
       "      <th>4</th>\n",
       "      <td>5</td>\n",
       "      <td>0</td>\n",
       "      <td>3</td>\n",
       "      <td>Allen, Mr. William Henry</td>\n",
       "      <td>male</td>\n",
       "      <td>35.0</td>\n",
       "      <td>0</td>\n",
       "      <td>0</td>\n",
       "      <td>373450</td>\n",
       "      <td>8.0500</td>\n",
       "      <td>NaN</td>\n",
       "      <td>S</td>\n",
       "    </tr>\n",
       "  </tbody>\n",
       "</table>\n",
       "</div>"
      ],
      "text/plain": [
       "   PassengerId  Survived  Pclass  \\\n",
       "0            1         0       3   \n",
       "1            2         1       1   \n",
       "2            3         1       3   \n",
       "3            4         1       1   \n",
       "4            5         0       3   \n",
       "\n",
       "                                                Name     Sex   Age  SibSp  \\\n",
       "0                            Braund, Mr. Owen Harris    male  22.0      1   \n",
       "1  Cumings, Mrs. John Bradley (Florence Briggs Th...  female  38.0      1   \n",
       "2                             Heikkinen, Miss. Laina  female  26.0      0   \n",
       "3       Futrelle, Mrs. Jacques Heath (Lily May Peel)  female  35.0      1   \n",
       "4                           Allen, Mr. William Henry    male  35.0      0   \n",
       "\n",
       "   Parch            Ticket     Fare Cabin Embarked  \n",
       "0      0         A/5 21171   7.2500   NaN        S  \n",
       "1      0          PC 17599  71.2833   C85        C  \n",
       "2      0  STON/O2. 3101282   7.9250   NaN        S  \n",
       "3      0            113803  53.1000  C123        S  \n",
       "4      0            373450   8.0500   NaN        S  "
      ]
     },
     "execution_count": 3,
     "metadata": {},
     "output_type": "execute_result"
    }
   ],
   "source": [
    "train.head()"
   ]
  },
  {
   "cell_type": "markdown",
   "metadata": {
    "_uuid": "8109e55d11ea98207e98dbc2e9a8659e9fb8e860"
   },
   "source": [
    "We have 11 feature columns and target variable **Survived** which is binary."
   ]
  },
  {
   "cell_type": "markdown",
   "metadata": {
    "_uuid": "f7873825c7149e38066d5a9fbf44a9a4beabe888"
   },
   "source": [
    "Pclass, Sex and Embarked are **Categorical** Features while Age, SibSp, Parch and Fare are **continuous** variables."
   ]
  },
  {
   "cell_type": "markdown",
   "metadata": {
    "_uuid": "1b628a352c602a7aa7e0f7c5a66aae5ab03efc7b"
   },
   "source": [
    "We will use Name, Ticket and Cabin variable in Feature Engineering"
   ]
  },
  {
   "cell_type": "markdown",
   "metadata": {
    "_uuid": "e163428871f88442268829b439358ae6e92e74c8"
   },
   "source": [
    "## EDA"
   ]
  },
  {
   "cell_type": "code",
   "execution_count": 4,
   "metadata": {
    "_uuid": "96ea19b6289e0c416f28ece8d915827245c608c9"
   },
   "outputs": [
    {
     "data": {
      "image/png": "[encoded data removed]",
      "text/plain": [
       "<Figure size 600x400 with 1 Axes>"
      ]
     },
     "metadata": {},
     "output_type": "display_data"
    }
   ],
   "source": [
    "fig , ax = plt.subplots(figsize=(6,4))\n",
    "sns.countplot(x='Survived', data=train)\n",
    "plt.title(\"Count of Survival\")\n",
    "plt.show()"
   ]
  },
  {
   "cell_type": "code",
   "execution_count": 5,
   "metadata": {
    "_uuid": "b37794307d630b84b76720e0ffd1b633442fb327"
   },
   "outputs": [
    {
     "name": "stdout",
     "output_type": "stream",
     "text": [
      "% of passanger survived in train dataset:  38.38383838383838\n",
      "% of passanger not survived in train dataset:  61.61616161616162\n"
     ]
    }
   ],
   "source": [
    "n=len(train)\n",
    "surv_0=len(train[train['Survived']==0])\n",
    "surv_1=len(train[train['Survived']==1])\n",
    "\n",
    "print(\"% of passanger survived in train dataset: \",surv_1*100/n)\n",
    "print(\"% of passanger not survived in train dataset: \",surv_0*100/n)"
   ]
  },
  {
   "cell_type": "markdown",
   "metadata": {
    "_uuid": "3bb7a2f434ef50e3bcad04e15a20ba67b6e7f545"
   },
   "source": [
    "Passanger not survived has edge over survived passanger.  "
   ]
  },
  {
   "cell_type": "markdown",
   "metadata": {
    "_uuid": "1bff55d4bcf0f9ed0120943a476a0911f8cd96c5"
   },
   "source": [
    "And even if we do nothing we would get approximately 61% accuracy by simple marking all passangers as not survived(**Accuracy Paradox**). So our aim should be to get accuracy higher than this."
   ]
  },
  {
   "cell_type": "markdown",
   "metadata": {
    "_uuid": "b257b2b9a50b9ab3f7c529aacbf7e06ea3c73956"
   },
   "source": [
    "### Let's find correlation between Numeric Variable"
   ]
  },
  {
   "cell_type": "code",
   "execution_count": 6,
   "metadata": {
    "_uuid": "97e9e32747c6fab53e09d617c893936314332d26"
   },
   "outputs": [],
   "source": [
    "cat=['Pclass','Sex','Embarked']\n",
    "num=['Age','SibSp','Parch','Fare']"
   ]
  },
  {
   "cell_type": "code",
   "execution_count": 7,
   "metadata": {
    "_uuid": "766f0975acf4a80f4418c1d953fb41785a33657a"
   },
   "outputs": [
    {
     "name": "stdout",
     "output_type": "stream",
     "text": [
      "            Age     SibSp     Parch      Fare\n",
      "Age    1.000000 -0.308247 -0.189119  0.096067\n",
      "SibSp -0.308247  1.000000  0.414838  0.159651\n",
      "Parch -0.189119  0.414838  1.000000  0.216225\n",
      "Fare   0.096067  0.159651  0.216225  1.000000\n"
     ]
    }
   ],
   "source": [
    "corr_df=train[num]  #New dataframe to calculate correlation between numeric features\n",
    "cor= corr_df.corr(method='pearson')\n",
    "print(cor)"
   ]
  },
  {
   "cell_type": "code",
   "execution_count": null,
   "metadata": {
    "_uuid": "7db54a64ce15158882424694c196ae4cd2cf19ed"
   },
   "outputs": [],
   "source": []
  },
  {
   "cell_type": "markdown",
   "metadata": {
    "_uuid": "c33c13ad663188696a7473489c5d856a58c3d18d"
   },
   "source": [
    "There's no strong correlation between any two variables. The strongest correlation is between **SibSp** and **Parch** features (0.414)."
   ]
  },
  {
   "cell_type": "markdown",
   "metadata": {
    "_uuid": "c328628b47c9963b3b94857a83ce671d35ddb782"
   },
   "source": [
    " I would like to keep all the features as there is no strong evidence of data redundancy."
   ]
  },
  {
   "cell_type": "markdown",
   "metadata": {
    "_uuid": "0188b4333ed4145fbb3eccb4bb5d93a5abc620cb"
   },
   "source": [
    "Relationship between categorical variables and target variable"
   ]
  },
  {
   "cell_type": "code",
   "execution_count": 8,
   "metadata": {
    "_uuid": "c4ee8fbb7d6db95742fbc70d7d6716a9b6a05476"
   },
   "outputs": [
    {
     "name": "stdout",
     "output_type": "stream",
     "text": [
      "P-value:  1.1973570627755645e-58\n"
     ]
    }
   ],
   "source": [
    "csq=chi2_contingency(pd.crosstab(train['Survived'], train['Sex']))\n",
    "print(\"P-value: \",csq[1])"
   ]
  },
  {
   "cell_type": "code",
   "execution_count": 9,
   "metadata": {
    "_uuid": "195f29a3316138c55368993b1aeccffeb4e73969"
   },
   "outputs": [
    {
     "name": "stdout",
     "output_type": "stream",
     "text": [
      "P-value:  1.769922284120912e-06\n"
     ]
    }
   ],
   "source": [
    "csq2=chi2_contingency(pd.crosstab(train['Survived'], train['Embarked']))\n",
    "print(\"P-value: \",csq2[1])"
   ]
  },
  {
   "cell_type": "code",
   "execution_count": 10,
   "metadata": {
    "_uuid": "9e1c5446f7f0faf53da80d512f20a129b9765e6e"
   },
   "outputs": [
    {
     "name": "stdout",
     "output_type": "stream",
     "text": [
      "P-value:  4.549251711298793e-23\n"
     ]
    }
   ],
   "source": [
    "csq3=chi2_contingency(pd.crosstab(train['Survived'], train['Pclass']))\n",
    "print(\"P-value: \",csq3[1])"
   ]
  },
  {
   "cell_type": "markdown",
   "metadata": {
    "_uuid": "897bfc4c2a9a370627ff97c2448ddf1018f7a10a"
   },
   "source": [
    "P values for features Sex, Embarked and Pclass are very low. So we can reject our Null Hypothesis which is these features are independent and have no relationship with target variable"
   ]
  },
  {
   "cell_type": "markdown",
   "metadata": {
    "_uuid": "bee9d755efda8d8333a104bc431d0aaff17719b4"
   },
   "source": [
    "So these features contribute by providing some information."
   ]
  },
  {
   "cell_type": "markdown",
   "metadata": {
    "_uuid": "8ccc2ae02d0384ce6fd1007091534b2a05c0def5"
   },
   "source": [
    "## Visualization "
   ]
  },
  {
   "cell_type": "markdown",
   "metadata": {
    "_uuid": "08a45918e0e80bb0f5758da20c819f03de1d7e32"
   },
   "source": [
    "Impact of feature **Sex** on **Survived**"
   ]
  },
  {
   "cell_type": "code",
   "execution_count": 11,
   "metadata": {
    "_uuid": "55968add75d6cfd6f0ad7daa5f7ad199d3ec6629"
   },
   "outputs": [
    {
     "data": {
      "image/png": "[encoded data removed]",
      "text/plain": [
       "<Figure size 800x600 with 1 Axes>"
      ]
     },
     "metadata": {},
     "output_type": "display_data"
    }
   ],
   "source": [
    "fig, ax=plt.subplots(figsize=(8,6))\n",
    "sns.countplot(x='Survived', data=train, hue='Sex')\n",
    "ax.set_ylim(0,500)\n",
    "plt.title(\"Impact of Sex on Survived\")\n",
    "plt.show()"
   ]
  },
  {
   "cell_type": "markdown",
   "metadata": {
    "_uuid": "36e91aa3503e7adbcb94d5634b8801a05b9fac9e"
   },
   "source": [
    "We can say that Female passangers have higher probability of survival than Male passangers"
   ]
  },
  {
   "cell_type": "code",
   "execution_count": 12,
   "metadata": {
    "_uuid": "2bedb1da404cd72ae07975b95ab6c9e4cbd4502d"
   },
   "outputs": [
    {
     "data": {
      "image/png": "[encoded data removed]",
      "text/plain": [
       "<Figure size 800x600 with 1 Axes>"
      ]
     },
     "metadata": {},
     "output_type": "display_data"
    }
   ],
   "source": [
    "fig, ax=plt.subplots(figsize=(8,6))\n",
    "sns.countplot(x='Survived', data=train, hue='Embarked')\n",
    "ax.set_ylim(0,500)\n",
    "plt.title(\"Impact of Embarked on Survived\")\n",
    "plt.show()"
   ]
  },
  {
   "cell_type": "markdown",
   "metadata": {
    "_uuid": "fdbf2c63b6bf067df972268897480e79dcf53ed9"
   },
   "source": [
    "Ratio of Survived and Not Survived passangers for S and Q Embarked are similar but Passengers from C embarked have higer chances of survival."
   ]
  },
  {
   "cell_type": "code",
   "execution_count": 13,
   "metadata": {
    "_uuid": "1ec2c5282174dfe18c9736fc65536136f59c6d9f"
   },
   "outputs": [
    {
     "data": {
      "image/png": "[encoded data removed]",
      "text/plain": [
       "<Figure size 800x600 with 1 Axes>"
      ]
     },
     "metadata": {},
     "output_type": "display_data"
    }
   ],
   "source": [
    "fig, ax=plt.subplots(figsize=(8,6))\n",
    "sns.countplot(x='Survived', data=train, hue='Pclass')\n",
    "ax.set_ylim(0,400)\n",
    "plt.title(\"Impact of Pclass on Survived\")\n",
    "plt.show()"
   ]
  },
  {
   "cell_type": "markdown",
   "metadata": {
    "_uuid": "c5ab615b81706e18290e4575621d869cf63d5228"
   },
   "source": [
    "Passengers from **Pclass 3** have lesser chances of Survival while passengers from **Pclass 1** have higher chances of survival"
   ]
  },
  {
   "cell_type": "code",
   "execution_count": 14,
   "metadata": {
    "_uuid": "8b5341ca3c050734db1e0002225e5014e83fa00a"
   },
   "outputs": [
    {
     "data": {
      "image/png": "[encoded data removed]",
      "text/plain": [
       "<Figure size 800x600 with 1 Axes>"
      ]
     },
     "metadata": {},
     "output_type": "display_data"
    }
   ],
   "source": [
    "fig, ax=plt.subplots(1,figsize=(8,6))\n",
    "sns.boxplot(x='Survived',y='Fare', data=train)\n",
    "ax.set_ylim(0,300)\n",
    "plt.title(\"Survived vs Fare\")\n",
    "plt.show()"
   ]
  },
  {
   "cell_type": "markdown",
   "metadata": {
    "_uuid": "e9e3524adc41c11f8736e809c65e39c5301552ca"
   },
   "source": [
    "Average Fare for passangers who survived is higher than not survived."
   ]
  },
  {
   "cell_type": "markdown",
   "metadata": {
    "_uuid": "e4ce7d23701a2add7fddf184a4f997a636683cbd"
   },
   "source": [
    "## Handling Missing Values"
   ]
  },
  {
   "cell_type": "markdown",
   "metadata": {
    "_uuid": "1a877546ec1dbb2e5bdd774d0c615eb59dc1f659"
   },
   "source": [
    "* Let's check which features contain missing values"
   ]
  },
  {
   "cell_type": "code",
   "execution_count": 15,
   "metadata": {
    "_uuid": "42761633ff3948893d04190949a15de3c22a5621"
   },
   "outputs": [
    {
     "name": "stdout",
     "output_type": "stream",
     "text": [
      "PassengerId      0\n",
      "Survived         0\n",
      "Pclass           0\n",
      "Name             0\n",
      "Sex              0\n",
      "Age            177\n",
      "SibSp            0\n",
      "Parch            0\n",
      "Ticket           0\n",
      "Fare             0\n",
      "Cabin          687\n",
      "Embarked         2\n",
      "dtype: int64\n"
     ]
    }
   ],
   "source": [
    "print(train.isnull().sum())"
   ]
  },
  {
   "cell_type": "code",
   "execution_count": 16,
   "metadata": {
    "_uuid": "cbee1631be6bbc6e8145a49aeab247a881cc6149"
   },
   "outputs": [
    {
     "name": "stdout",
     "output_type": "stream",
     "text": [
      "PassengerId      0\n",
      "Pclass           0\n",
      "Name             0\n",
      "Sex              0\n",
      "Age             86\n",
      "SibSp            0\n",
      "Parch            0\n",
      "Ticket           0\n",
      "Fare             1\n",
      "Cabin          327\n",
      "Embarked         0\n",
      "dtype: int64\n"
     ]
    }
   ],
   "source": [
    "print(test.isnull().sum())"
   ]
  },
  {
   "cell_type": "markdown",
   "metadata": {
    "_uuid": "0fd5b57443b932b2540d9048c5bfd763da59caa6"
   },
   "source": [
    "Only 4 features have missing values"
   ]
  },
  {
   "cell_type": "markdown",
   "metadata": {
    "_uuid": "c2baec14b16c6fc64610a1d5b5d88567d0fdfb3a"
   },
   "source": [
    "#### Age"
   ]
  },
  {
   "cell_type": "code",
   "execution_count": 17,
   "metadata": {
    "_uuid": "1a6157a0cd5b608fca27df0c933aff1fb70ef19a"
   },
   "outputs": [
    {
     "data": {
      "text/plain": [
       "count    714.000000\n",
       "mean      29.699118\n",
       "std       14.526497\n",
       "min        0.420000\n",
       "25%       20.125000\n",
       "50%       28.000000\n",
       "75%       38.000000\n",
       "max       80.000000\n",
       "Name: Age, dtype: float64"
      ]
     },
     "execution_count": 17,
     "metadata": {},
     "output_type": "execute_result"
    }
   ],
   "source": [
    "train['Age'].describe()"
   ]
  },
  {
   "cell_type": "markdown",
   "metadata": {
    "_uuid": "65ec3bfbfdf15d1c70418063c84e2ddf6f623c8c"
   },
   "source": [
    "Let's replace missing values by median of Age."
   ]
  },
  {
   "cell_type": "code",
   "execution_count": 18,
   "metadata": {
    "_uuid": "cb31edf1f5c0b99ad5e28212553fd47bb183a289"
   },
   "outputs": [],
   "source": [
    "med=np.nanmedian(train['Age'])\n",
    "train['Age']=train['Age'].fillna(med)\n",
    "test['Age']=test['Age'].fillna(med)"
   ]
  },
  {
   "cell_type": "markdown",
   "metadata": {
    "_uuid": "d2ab944f30adf87a9316a3d2bedba9d105743b13"
   },
   "source": [
    "#### Cabin"
   ]
  },
  {
   "cell_type": "code",
   "execution_count": 19,
   "metadata": {
    "_uuid": "e91bd625db6ad6438e64f73bb7b19ea1f6d7aaee"
   },
   "outputs": [
    {
     "data": {
      "text/plain": [
       "B96 B98        4\n",
       "G6             4\n",
       "C23 C25 C27    4\n",
       "C22 C26        3\n",
       "F33            3\n",
       "              ..\n",
       "E34            1\n",
       "C7             1\n",
       "C54            1\n",
       "E36            1\n",
       "C148           1\n",
       "Name: Cabin, Length: 147, dtype: int64"
      ]
     },
     "execution_count": 19,
     "metadata": {},
     "output_type": "execute_result"
    }
   ],
   "source": [
    "train['Cabin'].value_counts()"
   ]
  },
  {
   "cell_type": "markdown",
   "metadata": {
    "_uuid": "c4a21dc3091782d7238bd2bbd6a7d89df1d7b9ec"
   },
   "source": [
    "Let's replace NaN by 0"
   ]
  },
  {
   "cell_type": "code",
   "execution_count": 20,
   "metadata": {
    "_uuid": "2d092909516757f2f4015a48c0ba7631217c0648"
   },
   "outputs": [],
   "source": [
    "train['Cabin']=train['Cabin'].fillna(0)\n",
    "test['Cabin']=test['Cabin'].fillna(0)"
   ]
  },
  {
   "cell_type": "markdown",
   "metadata": {
    "_uuid": "7e16050d01a69d2aad627c38b1914fb11b40b0d6"
   },
   "source": [
    "#### Embarked****"
   ]
  },
  {
   "cell_type": "code",
   "execution_count": 21,
   "metadata": {
    "_uuid": "c227c32f5926d4660cdda7e52a9f681bd734766d"
   },
   "outputs": [
    {
     "data": {
      "text/plain": [
       "S    644\n",
       "C    168\n",
       "Q     77\n",
       "Name: Embarked, dtype: int64"
      ]
     },
     "execution_count": 21,
     "metadata": {},
     "output_type": "execute_result"
    }
   ],
   "source": [
    "train['Embarked'].value_counts()"
   ]
  },
  {
   "cell_type": "markdown",
   "metadata": {
    "_uuid": "129f8ce865665fc833a763ba2950907b9e0dcda5"
   },
   "source": [
    "Let's replace the NaN by mode"
   ]
  },
  {
   "cell_type": "code",
   "execution_count": 22,
   "metadata": {
    "_uuid": "1f89fd416d1ed637bcecb8e70a75865a41a8f12a"
   },
   "outputs": [],
   "source": [
    "train['Cabin']=train['Cabin'].fillna(\"S\")"
   ]
  },
  {
   "cell_type": "markdown",
   "metadata": {
    "_uuid": "3b8d474853cdcd2fc728bb2c23170831db2e483c"
   },
   "source": [
    "#### Fare"
   ]
  },
  {
   "cell_type": "code",
   "execution_count": 23,
   "metadata": {
    "_uuid": "aa57b7be11e538d1ecb66332a643e8ebf5368c29"
   },
   "outputs": [
    {
     "data": {
      "text/plain": [
       "count    891.000000\n",
       "mean      32.204208\n",
       "std       49.693429\n",
       "min        0.000000\n",
       "25%        7.910400\n",
       "50%       14.454200\n",
       "75%       31.000000\n",
       "max      512.329200\n",
       "Name: Fare, dtype: float64"
      ]
     },
     "execution_count": 23,
     "metadata": {},
     "output_type": "execute_result"
    }
   ],
   "source": [
    "train['Fare'].describe()"
   ]
  },
  {
   "cell_type": "code",
   "execution_count": 24,
   "metadata": {
    "_uuid": "d436a1ae70f9da578551ed93e517a55e2e192b7a"
   },
   "outputs": [],
   "source": [
    "med=np.nanmedian(train['Fare'])\n",
    "test['Fare']=test['Fare'].fillna(med)"
   ]
  },
  {
   "cell_type": "markdown",
   "metadata": {
    "_uuid": "a5c5bd01f5f1840842fc283b2833da3e9605469a"
   },
   "source": [
    "## Feature Engineering"
   ]
  },
  {
   "cell_type": "markdown",
   "metadata": {
    "_uuid": "965adf81abc1b5e7242592843c26ca04220bf587"
   },
   "source": [
    "from **cabin** let's create a new feature **hasCabin** "
   ]
  },
  {
   "cell_type": "code",
   "execution_count": 25,
   "metadata": {
    "_uuid": "47be44d845d4f6d7b93976c6a84c876cdc7da514"
   },
   "outputs": [],
   "source": [
    "train['hasCabin']=train['Cabin'].apply(lambda x: 0 if x==0 else 1)\n",
    "test['hasCabin']=test['Cabin'].apply(lambda x: 0 if x==0 else 1)"
   ]
  },
  {
   "cell_type": "markdown",
   "metadata": {
    "_uuid": "97dca0f743227e9ca24c4d9e76010decd4e85826"
   },
   "source": [
    "Let's combine SibSp and Parch features to create new one **FamilyMem**"
   ]
  },
  {
   "cell_type": "code",
   "execution_count": 26,
   "metadata": {
    "_uuid": "d2aa2dfcbbdf3cb12fe867536a0423c35e54b544"
   },
   "outputs": [],
   "source": [
    "train['FamilyMem']=train.apply(lambda x: x['SibSp']+x['Parch'], axis=1)\n",
    "test['FamilyMem']=test.apply(lambda x: x['SibSp']+x['Parch'], axis=1)"
   ]
  },
  {
   "cell_type": "markdown",
   "metadata": {
    "_uuid": "a316365935d5defeaa59ea45f54661bd9d1e7017"
   },
   "source": [
    "Let's use prefixes in the name to Create a new column **Title** "
   ]
  },
  {
   "cell_type": "code",
   "execution_count": 27,
   "metadata": {
    "_uuid": "5094be0ade98a0a51061b4848fdd511ec0b51dc1"
   },
   "outputs": [],
   "source": [
    "def get_title(name):\n",
    "    title_search = re.search(' ([A-Za-z]+)\\.', name)\n",
    "    if title_search:\n",
    "        return title_search.group(1)\n",
    "    return \"\""
   ]
  },
  {
   "cell_type": "code",
   "execution_count": 28,
   "metadata": {
    "_uuid": "e7d3f87cd12ce5df994c22be72329b36906e8b4c"
   },
   "outputs": [],
   "source": [
    "train['title']=train['Name'].apply(get_title)\n",
    "test['title']=test['Name'].apply(get_title)"
   ]
  },
  {
   "cell_type": "code",
   "execution_count": 29,
   "metadata": {
    "_uuid": "89be08bc5290974ca0e8b9648b0d8acbbe07a856"
   },
   "outputs": [],
   "source": [
    "title_lev1=list(train['title'].value_counts().reset_index()['index'])\n",
    "title_lev2=list(test['title'].value_counts().reset_index()['index'])"
   ]
  },
  {
   "cell_type": "code",
   "execution_count": 30,
   "metadata": {
    "_uuid": "86eda799fd22c17e0095600f940213575a543217"
   },
   "outputs": [
    {
     "name": "stdout",
     "output_type": "stream",
     "text": [
      "['Lady', 'Rev', 'Jonkheer', 'Master', 'Col', 'Capt', 'Dona', 'Mme', 'Mr', 'Ms', 'Major', 'Sir', 'Mrs', 'Dr', 'Miss', 'Mlle', 'Countess', 'Don']\n"
     ]
    }
   ],
   "source": [
    "title_lev=list(set().union(title_lev1, title_lev2))\n",
    "print(title_lev)"
   ]
  },
  {
   "cell_type": "markdown",
   "metadata": {
    "_uuid": "c9d594d4966be78d971cd701e65480163c85dff7"
   },
   "source": [
    "### Assigning datatypes"
   ]
  },
  {
   "cell_type": "code",
   "execution_count": 31,
   "metadata": {
    "_uuid": "80f2ed3190c919038e976837aaf27743d184fc10"
   },
   "outputs": [],
   "source": [
    "train['title']=pd.Categorical(train['title'], categories=title_lev)\n",
    "test['title']=pd.Categorical(test['title'], categories=title_lev)"
   ]
  },
  {
   "cell_type": "code",
   "execution_count": 32,
   "metadata": {
    "_uuid": "cd161281331a4bcea05008c4db27e1d0ab280a14"
   },
   "outputs": [],
   "source": [
    "cols=['Pclass','Sex','Embarked','hasCabin','title']\n",
    "fcol=['Pclass','Sex','Embarked','hasCabin','title','Age','FamilyMem','Fare']"
   ]
  },
  {
   "cell_type": "code",
   "execution_count": 33,
   "metadata": {
    "_uuid": "323c6fb8affaa8b0dc74a7dd9fca0799ef29336c"
   },
   "outputs": [],
   "source": [
    "for c in cols:\n",
    "    train[c]=train[c].astype('category')\n",
    "    test[c]=test[c].astype('category')"
   ]
  },
  {
   "cell_type": "markdown",
   "metadata": {
    "_uuid": "8b0061f8c4d173926a8936ec17be66371af5230f"
   },
   "source": [
    "###  Let's create dummy variables"
   ]
  },
  {
   "cell_type": "code",
   "execution_count": 34,
   "metadata": {
    "_uuid": "ba59324bf42576d2507a6585317bbc04bf0d8a22"
   },
   "outputs": [],
   "source": [
    "train_df=train[fcol]\n",
    "test_df=test[fcol]"
   ]
  },
  {
   "cell_type": "code",
   "execution_count": 35,
   "metadata": {
    "_uuid": "7037ed6706fda56cd604c83799bde8a0436f5145"
   },
   "outputs": [],
   "source": [
    "train_df=pd.get_dummies(train_df, columns=cols, drop_first=True)\n",
    "test_df=pd.get_dummies(test_df, columns=cols, drop_first=True)"
   ]
  },
  {
   "cell_type": "code",
   "execution_count": 36,
   "metadata": {
    "_uuid": "7cf46617e9905854273d922362a7543b30aa0820"
   },
   "outputs": [],
   "source": [
    "y=train['Survived']"
   ]
  },
  {
   "cell_type": "markdown",
   "metadata": {
    "_uuid": "dca7369fed5436b11d52822ca0c7ec6607a7e841"
   },
   "source": [
    "## Model"
   ]
  },
  {
   "cell_type": "code",
   "execution_count": 37,
   "metadata": {
    "_uuid": "1aa75d58098eaafe6dfe8f86947e17186d106149"
   },
   "outputs": [],
   "source": [
    "x_train, x_test, y_train, y_test = train_test_split(train_df, y, test_size=0.3, random_state=42)"
   ]
  },
  {
   "cell_type": "markdown",
   "metadata": {
    "_uuid": "1cc10961d26855134f8564a6b37e05452e2062f1"
   },
   "source": [
    "### Random Forest"
   ]
  },
  {
   "cell_type": "code",
   "execution_count": 38,
   "metadata": {
    "_uuid": "4709aa7ce71644692c781263c01661a0771d4117"
   },
   "outputs": [],
   "source": [
    "rfc=RandomForestClassifier(random_state=42)"
   ]
  },
  {
   "cell_type": "code",
   "execution_count": 39,
   "metadata": {
    "_uuid": "aca3f60e2777ac6f92722459b2313730603b9db2"
   },
   "outputs": [],
   "source": [
    "param_grid = { \n",
    "    'n_estimators': [200, 500],\n",
    "    'max_features': ['auto', 'sqrt', 'log2'],\n",
    "    'max_depth' : [4,5,6,7,8],\n",
    "    'criterion' :['gini', 'entropy']\n",
    "}"
   ]
  },
  {
   "cell_type": "code",
   "execution_count": 40,
   "metadata": {
    "_uuid": "da023385e8b3c93bc5515b42f21ca8049a986b3a"
   },
   "outputs": [
    {
     "data": {
      "text/plain": [
       "GridSearchCV(cv=5, estimator=RandomForestClassifier(random_state=42),\n",
       "             param_grid={'criterion': ['gini', 'entropy'],\n",
       "                         'max_depth': [4, 5, 6, 7, 8],\n",
       "                         'max_features': ['auto', 'sqrt', 'log2'],\n",
       "                         'n_estimators': [200, 500]})"
      ]
     },
     "execution_count": 40,
     "metadata": {},
     "output_type": "execute_result"
    }
   ],
   "source": [
    "CV_rfc = GridSearchCV(estimator=rfc, param_grid=param_grid, cv= 5)\n",
    "CV_rfc.fit(x_train, y_train)"
   ]
  },
  {
   "cell_type": "code",
   "execution_count": 41,
   "metadata": {
    "_uuid": "ed42c439236f4be7dbc6ec8c375dff0273c24985"
   },
   "outputs": [
    {
     "data": {
      "text/plain": [
       "{'criterion': 'entropy',\n",
       " 'max_depth': 7,\n",
       " 'max_features': 'auto',\n",
       " 'n_estimators': 200}"
      ]
     },
     "execution_count": 41,
     "metadata": {},
     "output_type": "execute_result"
    }
   ],
   "source": [
    "CV_rfc.best_params_"
   ]
  },
  {
   "cell_type": "code",
   "execution_count": 42,
   "metadata": {
    "_uuid": "bbc0cd3bc0662ff88636fa24585e0ffa626aea05"
   },
   "outputs": [],
   "source": [
    "rfc1=RandomForestClassifier(random_state=42, max_features='auto', n_estimators= 200, max_depth=8, criterion='gini')"
   ]
  },
  {
   "cell_type": "code",
   "execution_count": 43,
   "metadata": {
    "_uuid": "d8db859ff2c94fdc978a334848cde5c23516a895"
   },
   "outputs": [
    {
     "data": {
      "text/plain": [
       "RandomForestClassifier(max_depth=8, n_estimators=200, random_state=42)"
      ]
     },
     "execution_count": 43,
     "metadata": {},
     "output_type": "execute_result"
    }
   ],
   "source": [
    "rfc1.fit(x_train, y_train)"
   ]
  },
  {
   "cell_type": "code",
   "execution_count": 44,
   "metadata": {
    "_uuid": "46a3dd23bc5d03aef6bfbae16898284bc6ee9c08"
   },
   "outputs": [],
   "source": [
    "pred=rfc1.predict(x_test)"
   ]
  },
  {
   "cell_type": "code",
   "execution_count": 45,
   "metadata": {
    "_uuid": "985f6b1215a2825af8b57dba98b74a53ff97ace9"
   },
   "outputs": [
    {
     "name": "stdout",
     "output_type": "stream",
     "text": [
      "Accuracy for Random Forest on CV data:  0.8059701492537313\n"
     ]
    }
   ],
   "source": [
    "print(\"Accuracy for Random Forest on CV data: \",accuracy_score(y_test,pred))"
   ]
  },
  {
   "cell_type": "code",
   "execution_count": 49,
   "metadata": {
    "_uuid": "f2e38d04022380ad4acb3348777fa6b6aaaf923c"
   },
   "outputs": [
    {
     "name": "stdout",
     "output_type": "stream",
     "text": [
      "[[137  20]\n",
      " [ 32  79]]\n",
      "              precision    recall  f1-score   support\n",
      "\n",
      "           0       0.81      0.87      0.84       157\n",
      "           1       0.80      0.71      0.75       111\n",
      "\n",
      "    accuracy                           0.81       268\n",
      "   macro avg       0.80      0.79      0.80       268\n",
      "weighted avg       0.81      0.81      0.80       268\n",
      "\n"
     ]
    }
   ],
   "source": [
    "print(confusion_matrix(y_test,pred))\n",
    "print(classification_report(y_test,pred))"
   ]
  },
  {
   "cell_type": "code",
   "execution_count": null,
   "metadata": {
    "_uuid": "c2d26ef84550a5f15bd0ebdfce6cad43fe610112"
   },
   "outputs": [],
   "source": []
  },
  {
   "cell_type": "code",
   "execution_count": null,
   "metadata": {
    "_uuid": "674f711c6fcf46423f092d150c8284e3fd0fa717"
   },
   "outputs": [],
   "source": []
  }
 ],
 "metadata": {
  "kernelspec": {
   "display_name": "Python 3 (ipykernel)",
   "language": "python",
   "name": "python3"
  },
  "language_info": {
   "codemirror_mode": {
    "name": "ipython",
    "version": 3
   },
   "file_extension": ".py",
   "mimetype": "text/x-python",
   "name": "python",
   "nbconvert_exporter": "python",
   "pygments_lexer": "ipython3",
   "version": "3.9.13"
  }
 },
 "nbformat": 4,
 "nbformat_minor": 1
}
